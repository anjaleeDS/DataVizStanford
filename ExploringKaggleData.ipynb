{
  "nbformat": 4,
  "nbformat_minor": 0,
  "metadata": {
    "colab": {
      "name": "ExploringKaggleData.ipynb",
      "provenance": [],
      "authorship_tag": "ABX9TyMtMvwg8K/xebOj6bZBHn2a",
      "include_colab_link": true
    },
    "kernelspec": {
      "name": "python3",
      "display_name": "Python 3"
    }
  },
  "cells": [
    {
      "cell_type": "markdown",
      "metadata": {
        "id": "view-in-github",
        "colab_type": "text"
      },
      "source": [
        "<a href=\"https://colab.research.google.com/github/anjaleeDS/DataVizStanford/blob/master/ExploringKaggleData.ipynb\" target=\"_parent\"><img src=\"https://colab.research.google.com/assets/colab-badge.svg\" alt=\"Open In Colab\"/></a>"
      ]
    },
    {
      "cell_type": "markdown",
      "metadata": {
        "id": "B50jkul0dShd",
        "colab_type": "text"
      },
      "source": [
        "## **LIB Calls and google drive mounts**"
      ]
    },
    {
      "cell_type": "code",
      "metadata": {
        "id": "Htut8gJeceVl",
        "colab_type": "code",
        "outputId": "147d4449-450b-46d3-dda8-5a6a0130a5ed",
        "colab": {
          "base_uri": "https://localhost:8080/",
          "height": 183
        }
      },
      "source": [
        "# declarations of libs\n",
        "import matplotlib.pyplot as plt\n",
        "import seaborn as sns\n",
        "import pandas as pd\n",
        "import math\n",
        "from numpy import nan_to_num\n",
        "from vega_datasets import data\n",
        "\n",
        "# md = data.movies()\n",
        "# md.columns\n",
        "from google.colab import files\n",
        "from google.colab import drive\n",
        "drive.mount('/gdrive')\n",
        "%cd /gdrive\n",
        "\n"
      ],
      "execution_count": 0,
      "outputs": [
        {
          "output_type": "stream",
          "text": [
            "/usr/local/lib/python3.6/dist-packages/statsmodels/tools/_testing.py:19: FutureWarning: pandas.util.testing is deprecated. Use the functions in the public API at pandas.testing instead.\n",
            "  import pandas.util.testing as tm\n"
          ],
          "name": "stderr"
        },
        {
          "output_type": "stream",
          "text": [
            "Go to this URL in a browser: https://accounts.google.com/o/oauth2/auth?client_id=947318989803-6bn6qk8qdgf4n4g3pfee6491hc0brc4i.apps.googleusercontent.com&redirect_uri=urn%3aietf%3awg%3aoauth%3a2.0%3aoob&response_type=code&scope=email%20https%3a%2f%2fwww.googleapis.com%2fauth%2fdocs.test%20https%3a%2f%2fwww.googleapis.com%2fauth%2fdrive%20https%3a%2f%2fwww.googleapis.com%2fauth%2fdrive.photos.readonly%20https%3a%2f%2fwww.googleapis.com%2fauth%2fpeopleapi.readonly\n",
            "\n",
            "Enter your authorization code:\n",
            "··········\n",
            "Mounted at /gdrive\n",
            "/gdrive\n"
          ],
          "name": "stdout"
        }
      ]
    },
    {
      "cell_type": "code",
      "metadata": {
        "id": "q_QGu09FdDY_",
        "colab_type": "code",
        "outputId": "bb98f0d8-758f-4ac9-ff46-ba578e4a5957",
        "colab": {
          "base_uri": "https://localhost:8080/",
          "height": 35
        }
      },
      "source": [
        "%ls"
      ],
      "execution_count": 0,
      "outputs": [
        {
          "output_type": "stream",
          "text": [
            "\u001b[0m\u001b[01;34m'My Drive'\u001b[0m/\n"
          ],
          "name": "stdout"
        }
      ]
    },
    {
      "cell_type": "code",
      "metadata": {
        "id": "Ou_ny_cpfEJB",
        "colab_type": "code",
        "outputId": "284e45a1-b863-45bb-ee54-6ef875498969",
        "colab": {
          "base_uri": "https://localhost:8080/",
          "height": 72
        }
      },
      "source": [
        "%cd My\\ Drive\n",
        "%cd Colab\\ Notebooks"
      ],
      "execution_count": 0,
      "outputs": [
        {
          "output_type": "stream",
          "text": [
            "[Errno 2] No such file or directory: 'My Drive'\n",
            "/gdrive/My Drive\n",
            "/gdrive/My Drive/Colab Notebooks\n"
          ],
          "name": "stdout"
        }
      ]
    },
    {
      "cell_type": "code",
      "metadata": {
        "id": "uh89BChHfRlH",
        "colab_type": "code",
        "colab": {}
      },
      "source": [
        "%ls-al"
      ],
      "execution_count": 0,
      "outputs": []
    },
    {
      "cell_type": "markdown",
      "metadata": {
        "id": "psgEBS__Os6Q",
        "colab_type": "text"
      },
      "source": [
        "Get Whole Foods data as .gsheet from drive "
      ]
    },
    {
      "cell_type": "code",
      "metadata": {
        "id": "A4A8lEeFOz45",
        "colab_type": "code",
        "outputId": "287ad2c3-24ff-426e-8435-a894e8b531d8",
        "colab": {
          "base_uri": "https://localhost:8080/",
          "height": 407
        }
      },
      "source": [
        "from google.colab import auth\n",
        "auth.authenticate_user()\n",
        "\n",
        "import gspread\n",
        "from oauth2client.client import GoogleCredentials\n",
        "\n",
        "gc = gspread.authorize(GoogleCredentials.get_application_default())\n",
        "\n",
        "worksheet = gc.open('wholefoods_data')\n",
        "\n",
        "# get_all_values gives a list of rows.\n",
        "rows = worksheet.sheet1.get_all_values()\n",
        "\n",
        "# Convert to a DataFrame and make the first row the column name. Then drop the first row.\n",
        "wf_df = pd.DataFrame.from_records(rows)\n",
        "wf_df.columns = wf_df.iloc[0]\n",
        "wf_df = wf_df[1:]\n",
        "\n",
        "length = len(wf_df.columns)\n",
        "\n",
        "# GET STATE FROM NAME\n",
        "ex = wf_df['name'].str.split(r\"\\,|-\", expand=True)\n",
        "# print(state)\n",
        "wf_df[length] = ex[1] #city\n",
        "wf_df[length+1] = ex[2] #state\n",
        "wf_df\n",
        "\n",
        "# SPLIT THE ADDRESS, PHONE | HOURS COLUMN TO THREE SEPARATE COLUMNS\n",
        "\n",
        "# address_df = wf_df['address, (phone), | hours'].str.split(\",\", expand=True)\n",
        "\n",
        "# wf_df[length] = address_df[0] #address\n",
        "# wf_df[length+1] = address_df[1] #city\n",
        "# state = address_df[2].str.split(\" \", n=1, expand=True)\n",
        "# wf_df[length+2] = state[0]\n",
        "\n",
        "\n",
        "\n"
      ],
      "execution_count": 0,
      "outputs": [
        {
          "output_type": "execute_result",
          "data": {
            "text/html": [
              "<div>\n",
              "<style scoped>\n",
              "    .dataframe tbody tr th:only-of-type {\n",
              "        vertical-align: middle;\n",
              "    }\n",
              "\n",
              "    .dataframe tbody tr th {\n",
              "        vertical-align: top;\n",
              "    }\n",
              "\n",
              "    .dataframe thead th {\n",
              "        text-align: right;\n",
              "    }\n",
              "</style>\n",
              "<table border=\"1\" class=\"dataframe\">\n",
              "  <thead>\n",
              "    <tr style=\"text-align: right;\">\n",
              "      <th></th>\n",
              "      <th>lat</th>\n",
              "      <th>long</th>\n",
              "      <th>name</th>\n",
              "      <th>address, (phone), | hours</th>\n",
              "      <th>4</th>\n",
              "      <th>5</th>\n",
              "    </tr>\n",
              "  </thead>\n",
              "  <tbody>\n",
              "    <tr>\n",
              "      <th>1</th>\n",
              "      <td>-86.752554</td>\n",
              "      <td>33.460451</td>\n",
              "      <td>Whole Foods-Birmingham,AL</td>\n",
              "      <td>3100 Cahaba Village Plaza, Birmingham,AL 35243...</td>\n",
              "      <td>Birmingham</td>\n",
              "      <td>AL</td>\n",
              "    </tr>\n",
              "    <tr>\n",
              "      <th>2</th>\n",
              "      <td>-86.5904161</td>\n",
              "      <td>34.712443</td>\n",
              "      <td>Whole Foods-Huntsville,AL</td>\n",
              "      <td>2501 Memorial Pkwy SW, Huntsville,AL 35801, (2...</td>\n",
              "      <td>Huntsville</td>\n",
              "      <td>AL</td>\n",
              "    </tr>\n",
              "    <tr>\n",
              "      <th>3</th>\n",
              "      <td>-88.1504613</td>\n",
              "      <td>30.6761375</td>\n",
              "      <td>Whole Foods-Mobile,AL</td>\n",
              "      <td>3968 Airport Blvd, Mobile,AL 36608, (251) 206-...</td>\n",
              "      <td>Mobile</td>\n",
              "      <td>AL</td>\n",
              "    </tr>\n",
              "    <tr>\n",
              "      <th>4</th>\n",
              "      <td>-86.1714041</td>\n",
              "      <td>32.3578148</td>\n",
              "      <td>Whole Foods-Montgomery,AL</td>\n",
              "      <td>1450 Taylor Rd, Montgomery,AL 36117, (334) 523...</td>\n",
              "      <td>Montgomery</td>\n",
              "      <td>AL</td>\n",
              "    </tr>\n",
              "    <tr>\n",
              "      <th>5</th>\n",
              "      <td>-94.1450778</td>\n",
              "      <td>36.1135626</td>\n",
              "      <td>Whole Foods-Fayetteville,AR</td>\n",
              "      <td>3425 N College Avenue, Fayetteville,AR 72703, ...</td>\n",
              "      <td>Fayetteville</td>\n",
              "      <td>AR</td>\n",
              "    </tr>\n",
              "    <tr>\n",
              "      <th>...</th>\n",
              "      <td>...</td>\n",
              "      <td>...</td>\n",
              "      <td>...</td>\n",
              "      <td>...</td>\n",
              "      <td>...</td>\n",
              "      <td>...</td>\n",
              "    </tr>\n",
              "    <tr>\n",
              "      <th>455</th>\n",
              "      <td>-122.536232</td>\n",
              "      <td>47.2273903</td>\n",
              "      <td>Whole Foods-University Place,WA</td>\n",
              "      <td>3515 Bridgeport Way West, University Place,WA ...</td>\n",
              "      <td>University Place</td>\n",
              "      <td>WA</td>\n",
              "    </tr>\n",
              "    <tr>\n",
              "      <th>456</th>\n",
              "      <td>-122.507387</td>\n",
              "      <td>45.615538</td>\n",
              "      <td>Whole Foods-Vancouver,WA</td>\n",
              "      <td>815 Southeast 160th Avenue, Vancouver,WA 98683...</td>\n",
              "      <td>Vancouver</td>\n",
              "      <td>WA</td>\n",
              "    </tr>\n",
              "    <tr>\n",
              "      <th>457</th>\n",
              "      <td>-89.443819</td>\n",
              "      <td>43.0751</td>\n",
              "      <td>Whole Foods-Madison,WI</td>\n",
              "      <td>3313 University Ave, Madison,WI 53705, (608) 2...</td>\n",
              "      <td>Madison</td>\n",
              "      <td>WI</td>\n",
              "    </tr>\n",
              "    <tr>\n",
              "      <th>458</th>\n",
              "      <td>-87.883706</td>\n",
              "      <td>43.060374</td>\n",
              "      <td>Whole Foods-Milwaukee,WI</td>\n",
              "      <td>2305 N Prospect Ave, Milwaukee,WI 53211, (414)...</td>\n",
              "      <td>Milwaukee</td>\n",
              "      <td>WI</td>\n",
              "    </tr>\n",
              "    <tr>\n",
              "      <th>459</th>\n",
              "      <td>-88.0517225</td>\n",
              "      <td>43.0748096</td>\n",
              "      <td>Whole Foods-Wauwatosa,WI</td>\n",
              "      <td>11100 W Burleigh Street, Wauwatosa,WI 53222, (...</td>\n",
              "      <td>Wauwatosa</td>\n",
              "      <td>WI</td>\n",
              "    </tr>\n",
              "  </tbody>\n",
              "</table>\n",
              "<p>459 rows × 6 columns</p>\n",
              "</div>"
            ],
            "text/plain": [
              "0            lat        long  ...                 4   5\n",
              "1     -86.752554   33.460451  ...        Birmingham  AL\n",
              "2    -86.5904161   34.712443  ...        Huntsville  AL\n",
              "3    -88.1504613  30.6761375  ...            Mobile  AL\n",
              "4    -86.1714041  32.3578148  ...        Montgomery  AL\n",
              "5    -94.1450778  36.1135626  ...      Fayetteville  AR\n",
              "..           ...         ...  ...               ...  ..\n",
              "455  -122.536232  47.2273903  ...  University Place  WA\n",
              "456  -122.507387   45.615538  ...         Vancouver  WA\n",
              "457   -89.443819     43.0751  ...           Madison  WI\n",
              "458   -87.883706   43.060374  ...         Milwaukee  WI\n",
              "459  -88.0517225  43.0748096  ...         Wauwatosa  WI\n",
              "\n",
              "[459 rows x 6 columns]"
            ]
          },
          "metadata": {
            "tags": []
          },
          "execution_count": 131
        }
      ]
    },
    {
      "cell_type": "markdown",
      "metadata": {
        "id": "Sv_tHJu9Rhvo",
        "colab_type": "text"
      },
      "source": [
        "Get County covid data from a URL with .csv ending"
      ]
    },
    {
      "cell_type": "code",
      "metadata": {
        "id": "WNuRu6ZjhZbB",
        "colab_type": "code",
        "colab": {}
      },
      "source": [
        "url=\"https://raw.githubusercontent.com/nytimes/covid-19-data/master/us-counties.csv\"\n",
        "covid=pd.read_csv(url)\n",
        "\n",
        "url=\"https://data.nola.gov/api/views/6puz-7prj/rows.csv\"\n",
        "food_truck_zones = pd.read_csv(url)\n",
        "food_truck_zones.the_geom"
      ],
      "execution_count": 0,
      "outputs": []
    },
    {
      "cell_type": "code",
      "metadata": {
        "id": "mhSH_Jwer5GZ",
        "colab_type": "code",
        "outputId": "43bdad30-4268-4df6-ff45-2a531f04b0c9",
        "colab": {
          "base_uri": "https://localhost:8080/",
          "height": 407
        }
      },
      "source": [
        "unemp = data.unemployment_across_industries()\n",
        "unemp"
      ],
      "execution_count": 0,
      "outputs": [
        {
          "output_type": "execute_result",
          "data": {
            "text/html": [
              "<div>\n",
              "<style scoped>\n",
              "    .dataframe tbody tr th:only-of-type {\n",
              "        vertical-align: middle;\n",
              "    }\n",
              "\n",
              "    .dataframe tbody tr th {\n",
              "        vertical-align: top;\n",
              "    }\n",
              "\n",
              "    .dataframe thead th {\n",
              "        text-align: right;\n",
              "    }\n",
              "</style>\n",
              "<table border=\"1\" class=\"dataframe\">\n",
              "  <thead>\n",
              "    <tr style=\"text-align: right;\">\n",
              "      <th></th>\n",
              "      <th>series</th>\n",
              "      <th>year</th>\n",
              "      <th>month</th>\n",
              "      <th>count</th>\n",
              "      <th>rate</th>\n",
              "      <th>date</th>\n",
              "    </tr>\n",
              "  </thead>\n",
              "  <tbody>\n",
              "    <tr>\n",
              "      <th>0</th>\n",
              "      <td>Government</td>\n",
              "      <td>2000</td>\n",
              "      <td>1</td>\n",
              "      <td>430</td>\n",
              "      <td>2.1</td>\n",
              "      <td>2000-01-01 08:00:00+00:00</td>\n",
              "    </tr>\n",
              "    <tr>\n",
              "      <th>1</th>\n",
              "      <td>Government</td>\n",
              "      <td>2000</td>\n",
              "      <td>2</td>\n",
              "      <td>409</td>\n",
              "      <td>2.0</td>\n",
              "      <td>2000-02-01 08:00:00+00:00</td>\n",
              "    </tr>\n",
              "    <tr>\n",
              "      <th>2</th>\n",
              "      <td>Government</td>\n",
              "      <td>2000</td>\n",
              "      <td>3</td>\n",
              "      <td>311</td>\n",
              "      <td>1.5</td>\n",
              "      <td>2000-03-01 08:00:00+00:00</td>\n",
              "    </tr>\n",
              "    <tr>\n",
              "      <th>3</th>\n",
              "      <td>Government</td>\n",
              "      <td>2000</td>\n",
              "      <td>4</td>\n",
              "      <td>269</td>\n",
              "      <td>1.3</td>\n",
              "      <td>2000-04-01 08:00:00+00:00</td>\n",
              "    </tr>\n",
              "    <tr>\n",
              "      <th>4</th>\n",
              "      <td>Government</td>\n",
              "      <td>2000</td>\n",
              "      <td>5</td>\n",
              "      <td>370</td>\n",
              "      <td>1.9</td>\n",
              "      <td>2000-05-01 07:00:00+00:00</td>\n",
              "    </tr>\n",
              "    <tr>\n",
              "      <th>...</th>\n",
              "      <td>...</td>\n",
              "      <td>...</td>\n",
              "      <td>...</td>\n",
              "      <td>...</td>\n",
              "      <td>...</td>\n",
              "      <td>...</td>\n",
              "    </tr>\n",
              "    <tr>\n",
              "      <th>1703</th>\n",
              "      <td>Self-employed</td>\n",
              "      <td>2009</td>\n",
              "      <td>10</td>\n",
              "      <td>610</td>\n",
              "      <td>5.9</td>\n",
              "      <td>2009-10-01 07:00:00+00:00</td>\n",
              "    </tr>\n",
              "    <tr>\n",
              "      <th>1704</th>\n",
              "      <td>Self-employed</td>\n",
              "      <td>2009</td>\n",
              "      <td>11</td>\n",
              "      <td>592</td>\n",
              "      <td>5.7</td>\n",
              "      <td>2009-11-01 07:00:00+00:00</td>\n",
              "    </tr>\n",
              "    <tr>\n",
              "      <th>1705</th>\n",
              "      <td>Self-employed</td>\n",
              "      <td>2009</td>\n",
              "      <td>12</td>\n",
              "      <td>609</td>\n",
              "      <td>5.9</td>\n",
              "      <td>2009-12-01 08:00:00+00:00</td>\n",
              "    </tr>\n",
              "    <tr>\n",
              "      <th>1706</th>\n",
              "      <td>Self-employed</td>\n",
              "      <td>2010</td>\n",
              "      <td>1</td>\n",
              "      <td>730</td>\n",
              "      <td>7.2</td>\n",
              "      <td>2010-01-01 08:00:00+00:00</td>\n",
              "    </tr>\n",
              "    <tr>\n",
              "      <th>1707</th>\n",
              "      <td>Self-employed</td>\n",
              "      <td>2010</td>\n",
              "      <td>2</td>\n",
              "      <td>680</td>\n",
              "      <td>6.5</td>\n",
              "      <td>2010-02-01 08:00:00+00:00</td>\n",
              "    </tr>\n",
              "  </tbody>\n",
              "</table>\n",
              "<p>1708 rows × 6 columns</p>\n",
              "</div>"
            ],
            "text/plain": [
              "             series  year  month  count  rate                      date\n",
              "0        Government  2000      1    430   2.1 2000-01-01 08:00:00+00:00\n",
              "1        Government  2000      2    409   2.0 2000-02-01 08:00:00+00:00\n",
              "2        Government  2000      3    311   1.5 2000-03-01 08:00:00+00:00\n",
              "3        Government  2000      4    269   1.3 2000-04-01 08:00:00+00:00\n",
              "4        Government  2000      5    370   1.9 2000-05-01 07:00:00+00:00\n",
              "...             ...   ...    ...    ...   ...                       ...\n",
              "1703  Self-employed  2009     10    610   5.9 2009-10-01 07:00:00+00:00\n",
              "1704  Self-employed  2009     11    592   5.7 2009-11-01 07:00:00+00:00\n",
              "1705  Self-employed  2009     12    609   5.9 2009-12-01 08:00:00+00:00\n",
              "1706  Self-employed  2010      1    730   7.2 2010-01-01 08:00:00+00:00\n",
              "1707  Self-employed  2010      2    680   6.5 2010-02-01 08:00:00+00:00\n",
              "\n",
              "[1708 rows x 6 columns]"
            ]
          },
          "metadata": {
            "tags": []
          },
          "execution_count": 5
        }
      ]
    },
    {
      "cell_type": "code",
      "metadata": {
        "id": "9tiEeNNYKTmx",
        "colab_type": "code",
        "outputId": "09814583-72c5-4323-c9c2-24305dc92930",
        "colab": {
          "base_uri": "https://localhost:8080/",
          "height": 126
        }
      },
      "source": [
        "unemp.series.unique()"
      ],
      "execution_count": 0,
      "outputs": [
        {
          "output_type": "execute_result",
          "data": {
            "text/plain": [
              "array(['Government', 'Mining and Extraction', 'Construction',\n",
              "       'Manufacturing', 'Wholesale and Retail Trade',\n",
              "       'Transportation and Utilities', 'Information', 'Finance',\n",
              "       'Business services', 'Education and Health',\n",
              "       'Leisure and hospitality', 'Other', 'Agriculture', 'Self-employed'],\n",
              "      dtype=object)"
            ]
          },
          "metadata": {
            "tags": []
          },
          "execution_count": 8
        }
      ]
    },
    {
      "cell_type": "code",
      "metadata": {
        "id": "HpEpK0gCK7bl",
        "colab_type": "code",
        "colab": {}
      },
      "source": [
        "sns.scatterplot"
      ],
      "execution_count": 0,
      "outputs": []
    }
  ]
}