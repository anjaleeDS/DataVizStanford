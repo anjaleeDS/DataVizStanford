{
  "nbformat": 4,
  "nbformat_minor": 0,
  "metadata": {
    "colab": {
      "name": "tradesy.ipynb",
      "provenance": [],
      "authorship_tag": "ABX9TyMKXWT90FtMVHwrdGrWLt8y",
      "include_colab_link": true
    },
    "kernelspec": {
      "name": "python3",
      "display_name": "Python 3"
    }
  },
  "cells": [
    {
      "cell_type": "markdown",
      "metadata": {
        "id": "view-in-github",
        "colab_type": "text"
      },
      "source": [
        "<a href=\"https://colab.research.google.com/github/anjaleeDS/DataVizStanford/blob/master/tradesy.ipynb\" target=\"_parent\"><img src=\"https://colab.research.google.com/assets/colab-badge.svg\" alt=\"Open In Colab\"/></a>"
      ]
    },
    {
      "cell_type": "code",
      "metadata": {
        "id": "_mNXqwtfADH9",
        "colab_type": "code",
        "colab": {}
      },
      "source": [
        "import pandas as pd\n",
        "import seaborn as sns\n",
        "import matplotlib.pyplot as plt\n",
        "from fbprophet import Prophet\n",
        "import json"
      ],
      "execution_count": 0,
      "outputs": []
    },
    {
      "cell_type": "code",
      "metadata": {
        "id": "U1sVAh1CBduh",
        "colab_type": "code",
        "outputId": "1bc9114b-b39a-47e3-d745-092bed331572",
        "colab": {
          "base_uri": "https://localhost:8080/",
          "height": 72
        }
      },
      "source": [
        "from google.colab import drive\n",
        "drive.mount('/gdrive')\n",
        "%cd /gdrive\n",
        "%cd My\\ Drive/Colab \\Notebooks"
      ],
      "execution_count": 0,
      "outputs": [
        {
          "output_type": "stream",
          "text": [
            "Drive already mounted at /gdrive; to attempt to forcibly remount, call drive.mount(\"/gdrive\", force_remount=True).\n",
            "/gdrive\n",
            "/gdrive/My Drive/Colab Notebooks\n"
          ],
          "name": "stdout"
        }
      ]
    },
    {
      "cell_type": "code",
      "metadata": {
        "id": "0-S3_vwcR1IH",
        "colab_type": "code",
        "colab": {}
      },
      "source": [
        "data = []\n",
        "\n",
        "with open('tradesy_data.json') as fh:\n",
        "    for line in fh:\n",
        "        line = line.replace(\"'\",'\"')\n",
        "        data.append(json.loads(line))\n",
        "fh.close()\n",
        "\n",
        "# my_data = my_data.replace(\"'\",'\"')\n",
        "# my_data = my_data.replace('\\t','')\n",
        "# my_data = my_data.replace('\\n','')\n",
        "# my_data = my_data.replace(',}','}')\n",
        "# my_data = my_data.replace(',]',']')"
      ],
      "execution_count": 0,
      "outputs": []
    },
    {
      "cell_type": "code",
      "metadata": {
        "id": "k0Yh_6XpYqWm",
        "colab_type": "code",
        "outputId": "e55b0079-cca5-4456-fd41-7d38986856a2",
        "colab": {
          "base_uri": "https://localhost:8080/",
          "height": 54
        }
      },
      "source": [
        "data[7]"
      ],
      "execution_count": 0,
      "outputs": [
        {
          "output_type": "execute_result",
          "data": {
            "text/plain": [
              "{'lists': {'bought': ['598'], 'selling': [], 'sold': [], 'want': ['7596']},\n",
              " 'uid': '8'}"
            ]
          },
          "metadata": {
            "tags": []
          },
          "execution_count": 92
        }
      ]
    },
    {
      "cell_type": "code",
      "metadata": {
        "id": "nSm6ZWulalXn",
        "colab_type": "code",
        "colab": {}
      },
      "source": [
        "df = pd.DataFrame(data)"
      ],
      "execution_count": 0,
      "outputs": []
    },
    {
      "cell_type": "code",
      "metadata": {
        "id": "ayroLzJWZS_U",
        "colab_type": "code",
        "colab": {}
      },
      "source": [
        "with open('tradesy_data.json') as test:\n",
        "    for line in test:\n",
        "        line = line.replace(\"'\",'\"')\n",
        "        data.append(json.loads(line))\n",
        "\n",
        "dddf= pd.read_json(line)\n",
        "\n",
        "test.close()\n"
      ],
      "execution_count": 0,
      "outputs": []
    },
    {
      "cell_type": "code",
      "metadata": {
        "id": "pOJrQ5Ajf1OQ",
        "colab_type": "code",
        "outputId": "ba540773-3e94-4a78-bb2c-808093674b01",
        "colab": {
          "base_uri": "https://localhost:8080/",
          "height": 168
        }
      },
      "source": [
        "dddf.reset_index\n",
        "dddf\n"
      ],
      "execution_count": 0,
      "outputs": [
        {
          "output_type": "execute_result",
          "data": {
            "text/html": [
              "<div>\n",
              "<style scoped>\n",
              "    .dataframe tbody tr th:only-of-type {\n",
              "        vertical-align: middle;\n",
              "    }\n",
              "\n",
              "    .dataframe tbody tr th {\n",
              "        vertical-align: top;\n",
              "    }\n",
              "\n",
              "    .dataframe thead th {\n",
              "        text-align: right;\n",
              "    }\n",
              "</style>\n",
              "<table border=\"1\" class=\"dataframe\">\n",
              "  <thead>\n",
              "    <tr style=\"text-align: right;\">\n",
              "      <th></th>\n",
              "      <th>lists</th>\n",
              "      <th>uid</th>\n",
              "    </tr>\n",
              "  </thead>\n",
              "  <tbody>\n",
              "    <tr>\n",
              "      <th>bought</th>\n",
              "      <td>[]</td>\n",
              "      <td>2038305</td>\n",
              "    </tr>\n",
              "    <tr>\n",
              "      <th>selling</th>\n",
              "      <td>[]</td>\n",
              "      <td>2038305</td>\n",
              "    </tr>\n",
              "    <tr>\n",
              "      <th>sold</th>\n",
              "      <td>[]</td>\n",
              "      <td>2038305</td>\n",
              "    </tr>\n",
              "    <tr>\n",
              "      <th>want</th>\n",
              "      <td>[1485278]</td>\n",
              "      <td>2038305</td>\n",
              "    </tr>\n",
              "  </tbody>\n",
              "</table>\n",
              "</div>"
            ],
            "text/plain": [
              "             lists      uid\n",
              "bought          []  2038305\n",
              "selling         []  2038305\n",
              "sold            []  2038305\n",
              "want     [1485278]  2038305"
            ]
          },
          "metadata": {
            "tags": []
          },
          "execution_count": 110
        }
      ]
    }
  ]
}