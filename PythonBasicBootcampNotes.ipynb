{
  "nbformat": 4,
  "nbformat_minor": 0,
  "metadata": {
    "colab": {
      "name": "PythonBasicBootcampNotes.ipynb",
      "provenance": [],
      "authorship_tag": "ABX9TyPSDmGfdruuGBVWjKDg8y7t",
      "include_colab_link": true
    },
    "kernelspec": {
      "name": "python3",
      "display_name": "Python 3"
    }
  },
  "cells": [
    {
      "cell_type": "markdown",
      "metadata": {
        "id": "view-in-github",
        "colab_type": "text"
      },
      "source": [
        "<a href=\"https://colab.research.google.com/github/anjaleeDS/DataVizStanford/blob/master/PythonBasicBootcampNotes.ipynb\" target=\"_parent\"><img src=\"https://colab.research.google.com/assets/colab-badge.svg\" alt=\"Open In Colab\"/></a>"
      ]
    },
    {
      "cell_type": "markdown",
      "metadata": {
        "id": "6Vw-xrzSjkq2",
        "colab_type": "text"
      },
      "source": [
        "# Python Bootcamp 4-25-2020\n",
        "\n",
        "Teacher: Charlie Flanagan\n",
        "\n",
        "Order of operations: PEMDAS - parenthesis, exponent, multiplication, divide, addition, subtraction"
      ]
    },
    {
      "cell_type": "markdown",
      "metadata": {
        "id": "U5nXg8PRd6PF",
        "colab_type": "text"
      },
      "source": [
        "## The fizz buzz exercise\n",
        "\n",
        "Fizz Buzz components:\n",
        "- % modulo\n",
        "- check for divisible by 3, 5\n",
        "- print the number and the fizz or buzz where appropriate"
      ]
    },
    {
      "cell_type": "code",
      "metadata": {
        "id": "in4qjde9WOHA",
        "colab_type": "code",
        "colab": {}
      },
      "source": [
        "for i in range(1,101):\n",
        "  out = \"\"\n",
        "  if (i%3 == 0):\n",
        "    out = out + \"fizz\"\n",
        "  if (i%5 == 0):\n",
        "    out = out + \"buzz\"\n",
        "  print (i, out)"
      ],
      "execution_count": 0,
      "outputs": []
    },
    {
      "cell_type": "markdown",
      "metadata": {
        "id": "gMe5e2BsouLR",
        "colab_type": "text"
      },
      "source": [
        "## Changing value of variable"
      ]
    },
    {
      "cell_type": "code",
      "metadata": {
        "id": "R-PMRNJMboL0",
        "colab_type": "code",
        "outputId": "5143001c-aca9-4ba9-b7ad-b1ca330a1bb3",
        "colab": {
          "base_uri": "https://localhost:8080/",
          "height": 35
        }
      },
      "source": [
        "x = 1\n",
        "y = 2\n",
        "z = x+y\n",
        "z"
      ],
      "execution_count": 0,
      "outputs": [
        {
          "output_type": "execute_result",
          "data": {
            "text/plain": [
              "3"
            ]
          },
          "metadata": {
            "tags": []
          },
          "execution_count": 19
        }
      ]
    },
    {
      "cell_type": "code",
      "metadata": {
        "id": "1AMtVNPJo0ui",
        "colab_type": "code",
        "outputId": "6559569b-585d-4a5c-a9d5-5056331f319a",
        "colab": {
          "base_uri": "https://localhost:8080/",
          "height": 35
        }
      },
      "source": [
        "x=y\n",
        "z"
      ],
      "execution_count": 0,
      "outputs": [
        {
          "output_type": "execute_result",
          "data": {
            "text/plain": [
              "3"
            ]
          },
          "metadata": {
            "tags": []
          },
          "execution_count": 20
        }
      ]
    },
    {
      "cell_type": "code",
      "metadata": {
        "id": "r7KA9ejAo9MX",
        "colab_type": "code",
        "outputId": "9eb8d86b-0903-491e-8056-aa0b425adefe",
        "colab": {
          "base_uri": "https://localhost:8080/",
          "height": 35
        }
      },
      "source": [
        "z = x+y\n",
        "z"
      ],
      "execution_count": 0,
      "outputs": [
        {
          "output_type": "execute_result",
          "data": {
            "text/plain": [
              "4"
            ]
          },
          "metadata": {
            "tags": []
          },
          "execution_count": 21
        }
      ]
    },
    {
      "cell_type": "markdown",
      "metadata": {
        "id": "QykrxpU5pQbH",
        "colab_type": "text"
      },
      "source": [
        "## Functions!\n",
        "\n",
        "- A function is a named sequence of statement that performs a computation.\n",
        "\n",
        "- functions can have optional arguments if the function has additional arguments with predefined values, hence total # of args is satisfied"
      ]
    },
    {
      "cell_type": "code",
      "metadata": {
        "id": "TKjcSu9xvLvh",
        "colab_type": "code",
        "colab": {}
      },
      "source": [
        "def santa(name1='Charlie ', name2 = 'pop'): # name1 is a keyword argument\n",
        "  return \"happy holidays \"+ name1 + name2"
      ],
      "execution_count": 0,
      "outputs": []
    },
    {
      "cell_type": "code",
      "metadata": {
        "id": "hWYmgp_Mwau-",
        "colab_type": "code",
        "outputId": "212512bf-5276-46c6-e72c-831b3db26f50",
        "colab": {
          "base_uri": "https://localhost:8080/",
          "height": 35
        }
      },
      "source": [
        "santa('','Sally')"
      ],
      "execution_count": 0,
      "outputs": [
        {
          "output_type": "execute_result",
          "data": {
            "text/plain": [
              "'happy holidays Sally'"
            ]
          },
          "metadata": {
            "tags": []
          },
          "execution_count": 50
        }
      ]
    },
    {
      "cell_type": "code",
      "metadata": {
        "id": "rf05dexkwdvQ",
        "colab_type": "code",
        "outputId": "36e8ce17-e447-4062-dfc1-7e9990c6492a",
        "colab": {
          "base_uri": "https://localhost:8080/",
          "height": 35
        }
      },
      "source": [
        "def double(x):\n",
        "  var_inside_function=x*2\n",
        "  return var_inside_function\n",
        "\n",
        "double(10) \n",
        "\n",
        "# var_inside_function # any variable inside the function is not a global variable!!"
      ],
      "execution_count": 0,
      "outputs": [
        {
          "output_type": "execute_result",
          "data": {
            "text/plain": [
              "20"
            ]
          },
          "metadata": {
            "tags": []
          },
          "execution_count": 48
        }
      ]
    },
    {
      "cell_type": "markdown",
      "metadata": {
        "id": "Ykm0by_O0pZD",
        "colab_type": "text"
      },
      "source": [
        "## Conditional Statements\n",
        "\n",
        "---\n",
        "\n",
        "- if, if/else, elif\n",
        "- [x, y, z] is a list\n",
        "- for i in range (0,10) #prints 0 to 9 (not inclusive of 10)"
      ]
    },
    {
      "cell_type": "code",
      "metadata": {
        "id": "48WXF1tI7Z8k",
        "colab_type": "code",
        "outputId": "1a018f8c-da05-482f-ec70-1fd385db5c10",
        "colab": {
          "base_uri": "https://localhost:8080/",
          "height": 191
        }
      },
      "source": [
        "for i in range(10):\n",
        "  mod_check_2 =(i%2==0)\n",
        "  if mod_check_2==0:\n",
        "    print('fizz')\n",
        "  else:\n",
        "    print(i)"
      ],
      "execution_count": 0,
      "outputs": [
        {
          "output_type": "stream",
          "text": [
            "0\n",
            "fizz\n",
            "2\n",
            "fizz\n",
            "4\n",
            "fizz\n",
            "6\n",
            "fizz\n",
            "8\n",
            "fizz\n"
          ],
          "name": "stdout"
        }
      ]
    },
    {
      "cell_type": "markdown",
      "metadata": {
        "id": "uLk4AHKKQwOc",
        "colab_type": "text"
      },
      "source": [
        "# Lists - they are MUTABLE\n",
        "\n",
        "- range is from 0 to n-1\n",
        "- list within list possible"
      ]
    },
    {
      "cell_type": "code",
      "metadata": {
        "id": "vnMGBnh27em0",
        "colab_type": "code",
        "outputId": "2cd820ea-1750-4d65-d7c4-ea51e410d86b",
        "colab": {
          "base_uri": "https://localhost:8080/",
          "height": 35
        }
      },
      "source": [
        "my_list = [10,20,30,50,60,[50,60]]\n",
        "my_list[0]"
      ],
      "execution_count": 0,
      "outputs": [
        {
          "output_type": "execute_result",
          "data": {
            "text/plain": [
              "10"
            ]
          },
          "metadata": {
            "tags": []
          },
          "execution_count": 64
        }
      ]
    },
    {
      "cell_type": "code",
      "metadata": {
        "id": "0InJiKYDRokx",
        "colab_type": "code",
        "outputId": "9919bd6a-b7f2-41e3-8a85-504a8b4d93f4",
        "colab": {
          "base_uri": "https://localhost:8080/",
          "height": 35
        }
      },
      "source": [
        "lwl = my_list[5]\n",
        "lwl[0]\n",
        "\n",
        "# same as\n",
        "\n",
        "my_list[5][1]"
      ],
      "execution_count": 0,
      "outputs": [
        {
          "output_type": "execute_result",
          "data": {
            "text/plain": [
              "60"
            ]
          },
          "metadata": {
            "tags": []
          },
          "execution_count": 65
        }
      ]
    },
    {
      "cell_type": "code",
      "metadata": {
        "id": "JRtRhPGsRyhm",
        "colab_type": "code",
        "outputId": "b0680a27-5298-48fa-cb45-fa1cde782dc0",
        "colab": {
          "base_uri": "https://localhost:8080/",
          "height": 35
        }
      },
      "source": [
        "my_list[3] = 'updated_value'\n",
        "my_list"
      ],
      "execution_count": 0,
      "outputs": [
        {
          "output_type": "execute_result",
          "data": {
            "text/plain": [
              "[10, 20, 30, 'updated_value', 60, [50, 60]]"
            ]
          },
          "metadata": {
            "tags": []
          },
          "execution_count": 66
        }
      ]
    },
    {
      "cell_type": "code",
      "metadata": {
        "id": "7q4VcSRdSeEa",
        "colab_type": "code",
        "outputId": "2dd8d932-9da1-4629-b143-51d0893ad1a5",
        "colab": {
          "base_uri": "https://localhost:8080/",
          "height": 35
        }
      },
      "source": [
        "my_list[-1] # this is the last element!\n",
        "my_list[-2] # this is the second to last element!"
      ],
      "execution_count": 0,
      "outputs": [
        {
          "output_type": "execute_result",
          "data": {
            "text/plain": [
              "60"
            ]
          },
          "metadata": {
            "tags": []
          },
          "execution_count": 68
        }
      ]
    },
    {
      "cell_type": "code",
      "metadata": {
        "id": "_3a91RzdTryY",
        "colab_type": "code",
        "outputId": "7dfc0177-4e0a-40fa-a161-e3c3c0d89bd2",
        "colab": {
          "base_uri": "https://localhost:8080/",
          "height": 121
        }
      },
      "source": [
        "for item in my_list:\n",
        "  print(item * 3) # numbers do get evaled but lists and str do not get evaled, only repeated 4x\n",
        "\n",
        "# same as this\n",
        "\n",
        "for i in range(len(my_list))\n",
        "  print(item * 3)"
      ],
      "execution_count": 0,
      "outputs": [
        {
          "output_type": "stream",
          "text": [
            "30\n",
            "60\n",
            "90\n",
            "updated_valueupdated_valueupdated_value\n",
            "180\n",
            "[50, 60, 50, 60, 50, 60]\n"
          ],
          "name": "stdout"
        }
      ]
    },
    {
      "cell_type": "code",
      "metadata": {
        "id": "hUbN-89bT-nN",
        "colab_type": "code",
        "outputId": "f18d50cb-dc39-4b75-a818-eeabdc841c1d",
        "colab": {
          "base_uri": "https://localhost:8080/",
          "height": 121
        }
      },
      "source": [
        "# use this when you don't know the size and you want to keep tabs if the loop went through the the entire dataset \n",
        "\n",
        "for i, item in enumerate(my_list):\n",
        "  print(i, item)"
      ],
      "execution_count": 0,
      "outputs": [
        {
          "output_type": "stream",
          "text": [
            "0 10\n",
            "1 20\n",
            "2 30\n",
            "3 updated_value\n",
            "4 60\n",
            "5 [50, 60]\n"
          ],
          "name": "stdout"
        }
      ]
    },
    {
      "cell_type": "code",
      "metadata": {
        "id": "bfkb__cmX_1n",
        "colab_type": "code",
        "outputId": "089edeb6-cce6-4610-c563-2ab1af74728b",
        "colab": {
          "base_uri": "https://localhost:8080/",
          "height": 35
        }
      },
      "source": [
        "# to do IN PLACE setting\n",
        "\n",
        "my_list.append(42)\n",
        "my_list"
      ],
      "execution_count": 0,
      "outputs": [
        {
          "output_type": "execute_result",
          "data": {
            "text/plain": [
              "[10, 20, 30, 'updated_value', 60, [50, 60], 42, 42]"
            ]
          },
          "metadata": {
            "tags": []
          },
          "execution_count": 76
        }
      ]
    },
    {
      "cell_type": "code",
      "metadata": {
        "id": "79fveQY4XkyR",
        "colab_type": "code",
        "outputId": "e81beea1-9f3b-49a5-fdb7-74c59e5b666a",
        "colab": {
          "base_uri": "https://localhost:8080/",
          "height": 35
        }
      },
      "source": [
        "# grow lists!\n",
        "\n",
        "simple_list = [1,2,3,5,6,87,100]\n",
        "new_list = []\n",
        "\n",
        "for item in simple_list:\n",
        "  new_list.append(item ** 2)\n",
        "\n",
        "new_list"
      ],
      "execution_count": 0,
      "outputs": [
        {
          "output_type": "execute_result",
          "data": {
            "text/plain": [
              "[1, 4, 9, 25, 36, 7569, 10000]"
            ]
          },
          "metadata": {
            "tags": []
          },
          "execution_count": 91
        }
      ]
    },
    {
      "cell_type": "code",
      "metadata": {
        "id": "6fPyaY56ZF3h",
        "colab_type": "code",
        "colab": {}
      },
      "source": [
        "# shrink lists! pop and del!\n",
        "# pop saves the popped as the result of the eval\n",
        "# del just deletes the value from the list\n",
        "\n",
        "popped_value = new_list.pop(0)\n",
        "new_list\n",
        "\n",
        "del new_list[0]"
      ],
      "execution_count": 0,
      "outputs": []
    },
    {
      "cell_type": "code",
      "metadata": {
        "id": "oRqHDtUSZ4Ak",
        "colab_type": "code",
        "outputId": "c9b52826-e06d-4c5b-bc8b-abb71400f971",
        "colab": {
          "base_uri": "https://localhost:8080/",
          "height": 35
        }
      },
      "source": [
        "# SLICING!\n",
        "\n",
        "new_list[3:5]"
      ],
      "execution_count": 0,
      "outputs": [
        {
          "output_type": "execute_result",
          "data": {
            "text/plain": [
              "[7569, 10000]"
            ]
          },
          "metadata": {
            "tags": []
          },
          "execution_count": 93
        }
      ]
    },
    {
      "cell_type": "code",
      "metadata": {
        "id": "1f9JcnOnZ8_6",
        "colab_type": "code",
        "outputId": "5d14052d-ce6f-421f-f628-44d74c066c67",
        "colab": {
          "base_uri": "https://localhost:8080/",
          "height": 35
        }
      },
      "source": [
        "sorted(new_list)\n",
        "# reversing list is a frequent coding interview question\n",
        "# look up the answer for sampling from a list"
      ],
      "execution_count": 0,
      "outputs": [
        {
          "output_type": "execute_result",
          "data": {
            "text/plain": [
              "[9, 25, 36, 7569, 10000]"
            ]
          },
          "metadata": {
            "tags": []
          },
          "execution_count": 99
        }
      ]
    },
    {
      "cell_type": "markdown",
      "metadata": {
        "id": "59ZVnbWncdIj",
        "colab_type": "text"
      },
      "source": [
        "# DICTS\n",
        "\n",
        "- dictionaries are used to look up things very quickly\n",
        "- the index is the key so you can't use len() for dict\n",
        "- check if the index exists just do: \n",
        "\n",
        "'one' in english_to_french\n",
        "= True\n",
        "\n"
      ]
    },
    {
      "cell_type": "code",
      "metadata": {
        "id": "yiN9BhLhbrNe",
        "colab_type": "code",
        "outputId": "b996c4f2-01cc-493e-ac36-518bfaa9a91f",
        "colab": {
          "base_uri": "https://localhost:8080/",
          "height": 35
        }
      },
      "source": [
        "# {} is the same as a dict() declaration\n",
        "\n",
        "english_to_french = {}\n",
        "type(english_to_french)\n"
      ],
      "execution_count": 0,
      "outputs": [
        {
          "output_type": "execute_result",
          "data": {
            "text/plain": [
              "dict"
            ]
          },
          "metadata": {
            "tags": []
          },
          "execution_count": 102
        }
      ]
    },
    {
      "cell_type": "code",
      "metadata": {
        "id": "rpFnkzE0cjsu",
        "colab_type": "code",
        "outputId": "6eccf0bc-3b6b-4df6-ca54-84248eb93943",
        "colab": {
          "base_uri": "https://localhost:8080/",
          "height": 35
        }
      },
      "source": [
        "english_to_french['one'] = 'un'\n",
        "english_to_french['two'] = 'deux'\n",
        "\n",
        "english_to_french"
      ],
      "execution_count": 0,
      "outputs": [
        {
          "output_type": "stream",
          "text": [
            "{'one': 'un', 'two': 'deux'}\n"
          ],
          "name": "stdout"
        }
      ]
    },
    {
      "cell_type": "code",
      "metadata": {
        "id": "lXwx2gGvczdp",
        "colab_type": "code",
        "outputId": "6412e22d-b62f-4fc4-e0ab-d445425dae21",
        "colab": {
          "base_uri": "https://localhost:8080/",
          "height": 35
        }
      },
      "source": [
        "english_to_french['smaller_dict'] = {'test_key':'test_value'}\n",
        "english_to_french"
      ],
      "execution_count": 0,
      "outputs": [
        {
          "output_type": "execute_result",
          "data": {
            "text/plain": [
              "{'one': 'un', 'smaller_dict': {'test_key': 'test_value'}, 'two': 'deux'}"
            ]
          },
          "metadata": {
            "tags": []
          },
          "execution_count": 106
        }
      ]
    },
    {
      "cell_type": "code",
      "metadata": {
        "id": "ElgqeHCldW1R",
        "colab_type": "code",
        "outputId": "6e3fde52-8611-4cd0-9503-2433dddda495",
        "colab": {
          "base_uri": "https://localhost:8080/",
          "height": 87
        }
      },
      "source": [
        "english_to_french[3] = 'poop' # integers can be keys but lists cannot be indices\n",
        "english_to_french"
      ],
      "execution_count": 0,
      "outputs": [
        {
          "output_type": "execute_result",
          "data": {
            "text/plain": [
              "{3: 'poop',\n",
              " 'one': 'un',\n",
              " 'smaller_dict': {'test_key': 'test_value'},\n",
              " 'two': 'deux'}"
            ]
          },
          "metadata": {
            "tags": []
          },
          "execution_count": 107
        }
      ]
    },
    {
      "cell_type": "code",
      "metadata": {
        "id": "juniCmQ3ewEi",
        "colab_type": "code",
        "colab": {}
      },
      "source": [
        "lists_of_ints = [1,1,2,3,5,6,7,7,7]\n",
        "dict_count = {}"
      ],
      "execution_count": 0,
      "outputs": []
    },
    {
      "cell_type": "code",
      "metadata": {
        "id": "0oeqPZ2Af1ak",
        "colab_type": "code",
        "colab": {}
      },
      "source": [
        "def histogram(input_list):\n",
        "  dict_count = {}\n",
        "  for item in input_list:\n",
        "    if item in dict_count:\n",
        "      dict_count[item] = dict_count[item] + 1\n",
        "    else:\n",
        "      dict_count[item] = 1\n",
        "\n",
        "  return dict_count"
      ],
      "execution_count": 0,
      "outputs": []
    },
    {
      "cell_type": "code",
      "metadata": {
        "id": "L051l7TYgKtT",
        "colab_type": "code",
        "outputId": "88bac707-29da-48e1-db71-965b63b6b664",
        "colab": {
          "base_uri": "https://localhost:8080/",
          "height": 35
        }
      },
      "source": [
        "histogram([4,21,35,4,1,'line',4,53])"
      ],
      "execution_count": 0,
      "outputs": [
        {
          "output_type": "execute_result",
          "data": {
            "text/plain": [
              "{1: 1, 21: 1, 35: 1, 4: 3, 53: 1, 'line': 1}"
            ]
          },
          "metadata": {
            "tags": []
          },
          "execution_count": 127
        }
      ]
    },
    {
      "cell_type": "code",
      "metadata": {
        "id": "tZUkC4ErgqV_",
        "colab_type": "code",
        "colab": {}
      },
      "source": [
        "english_to_french['fav_food'] = ['bread', 'soup']"
      ],
      "execution_count": 0,
      "outputs": []
    },
    {
      "cell_type": "code",
      "metadata": {
        "id": "ebr7lHViiSs0",
        "colab_type": "code",
        "outputId": "2896793d-4e26-4f4e-b5a1-24fcc8710dc5",
        "colab": {
          "base_uri": "https://localhost:8080/",
          "height": 104
        }
      },
      "source": [
        "english_to_french"
      ],
      "execution_count": 0,
      "outputs": [
        {
          "output_type": "execute_result",
          "data": {
            "text/plain": [
              "{3: 'poop',\n",
              " 'fav_food': ['bread', 'soup'],\n",
              " 'one': 'un',\n",
              " 'smaller_dict': {'test_key': 'test_value'},\n",
              " 'two': 'deux'}"
            ]
          },
          "metadata": {
            "tags": []
          },
          "execution_count": 130
        }
      ]
    },
    {
      "cell_type": "code",
      "metadata": {
        "id": "iCS4D8L2icLR",
        "colab_type": "code",
        "outputId": "2fa018da-6d72-4062-a9c8-34abdd5470aa",
        "colab": {
          "base_uri": "https://localhost:8080/",
          "height": 35
        }
      },
      "source": [
        "sample_dict = {1:2, 2:1}\n",
        "sample_dict"
      ],
      "execution_count": 0,
      "outputs": [
        {
          "output_type": "execute_result",
          "data": {
            "text/plain": [
              "{1: 2, 2: 1}"
            ]
          },
          "metadata": {
            "tags": []
          },
          "execution_count": 131
        }
      ]
    },
    {
      "cell_type": "code",
      "metadata": {
        "id": "X48UfJqiimnX",
        "colab_type": "code",
        "outputId": "ab93b9e8-a1ba-4f2f-b39f-1ea902ec3b24",
        "colab": {
          "base_uri": "https://localhost:8080/",
          "height": 35
        }
      },
      "source": [
        "3 in english_to_french"
      ],
      "execution_count": 0,
      "outputs": [
        {
          "output_type": "execute_result",
          "data": {
            "text/plain": [
              "True"
            ]
          },
          "metadata": {
            "tags": []
          },
          "execution_count": 133
        }
      ]
    },
    {
      "cell_type": "code",
      "metadata": {
        "id": "qM_cKU2xjk-4",
        "colab_type": "code",
        "outputId": "4349711c-590c-4ba2-cae4-76ec3b6d9b79",
        "colab": {
          "base_uri": "https://localhost:8080/",
          "height": 35
        }
      },
      "source": [
        "english_to_french[3]"
      ],
      "execution_count": 0,
      "outputs": [
        {
          "output_type": "execute_result",
          "data": {
            "text/plain": [
              "'poop'"
            ]
          },
          "metadata": {
            "tags": []
          },
          "execution_count": 135
        }
      ]
    },
    {
      "cell_type": "markdown",
      "metadata": {
        "id": "vgjWAXoikd1O",
        "colab_type": "text"
      },
      "source": [
        "# Write the following function\n",
        "\n",
        "def generate_random_numbers(n, start, end)\n",
        "\n",
        "  hint: random.randbetween(start, end)\n",
        "\n",
        "look for min, max and sum, and length, everyother item, first and last element in list"
      ]
    },
    {
      "cell_type": "code",
      "metadata": {
        "id": "kZdFDTGjnWj2",
        "colab_type": "code",
        "outputId": "07e27419-8662-4f43-b440-cfa110568fdd",
        "colab": {
          "base_uri": "https://localhost:8080/",
          "height": 35
        }
      },
      "source": [
        "from random import random\n",
        "from random import randint\n",
        "random()"
      ],
      "execution_count": 0,
      "outputs": [
        {
          "output_type": "execute_result",
          "data": {
            "text/plain": [
              "0.9812881966725537"
            ]
          },
          "metadata": {
            "tags": []
          },
          "execution_count": 167
        }
      ]
    },
    {
      "cell_type": "code",
      "metadata": {
        "id": "OUsINQsCjxqC",
        "colab_type": "code",
        "colab": {}
      },
      "source": [
        "def grn(times=1, starting=2, ending=4):\n",
        "  output = {}\n",
        "  for i in range(times):\n",
        "    output[i] = randint(starting, ending)\n",
        "  return output"
      ],
      "execution_count": 0,
      "outputs": []
    },
    {
      "cell_type": "code",
      "metadata": {
        "id": "zXks_aL3mI5n",
        "colab_type": "code",
        "outputId": "d6c59b31-1b3b-4ac0-84b8-3281f5fdefdb",
        "colab": {
          "base_uri": "https://localhost:8080/",
          "height": 35
        }
      },
      "source": [
        "grn(6,3,100)"
      ],
      "execution_count": 0,
      "outputs": [
        {
          "output_type": "execute_result",
          "data": {
            "text/plain": [
              "{0: 98, 1: 85, 2: 63, 3: 75, 4: 17, 5: 26}"
            ]
          },
          "metadata": {
            "tags": []
          },
          "execution_count": 171
        }
      ]
    },
    {
      "cell_type": "code",
      "metadata": {
        "id": "iqv2M66LmPCp",
        "colab_type": "code",
        "colab": {}
      },
      "source": [
        ""
      ],
      "execution_count": 0,
      "outputs": []
    }
  ]
}